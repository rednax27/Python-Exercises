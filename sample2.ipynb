{
 "cells": [
  {
   "cell_type": "markdown",
   "metadata": {},
   "source": [
    "Python Exercises\n"
   ]
  },
  {
   "cell_type": "code",
   "execution_count": 24,
   "metadata": {},
   "outputs": [
    {
     "name": "stdout",
     "output_type": "stream",
     "text": [
      "Hello World\n"
     ]
    }
   ],
   "source": [
    "print('Hello World')"
   ]
  },
  {
   "cell_type": "markdown",
   "metadata": {},
   "source": [
    "Variables and Data Types\n",
    "int, float, string, boolean.\n"
   ]
  },
  {
   "cell_type": "code",
   "execution_count": 25,
   "metadata": {},
   "outputs": [
    {
     "name": "stdout",
     "output_type": "stream",
     "text": [
      "98\n",
      "97\n",
      "98, 95.75\n",
      "my grade is: 98\n"
     ]
    }
   ],
   "source": [
    "5\n",
    "-5\n",
    "1.30\n",
    "-1.25\n",
    "'a'\n",
    "'string'\n",
    "0\n",
    "1\n",
    "\n",
    "my_grade = 97\n",
    "my_average = 95.75\n",
    "my_name = 'Cypher'\n",
    "my_middle_initial = 'D'\n",
    "is_lights_on = False\n",
    "\n",
    "new_grade = my_grade\n",
    "my_grade = 98\n",
    "\n",
    "print(my_grade)\n",
    "print(new_grade)\n",
    "\n",
    "#this is a single-line comment\n",
    "\n",
    "\"\"\" This is a \n",
    "multi-line comment\"\"\"\n",
    "\n",
    "#multiple variable print with custom seperator\n",
    "print(my_grade, my_average, sep=\", \")\n",
    "\n",
    "#f-string\n",
    "print(f\"my grade is: {my_grade}\")\n",
    "\n"
   ]
  },
  {
   "cell_type": "markdown",
   "metadata": {},
   "source": [
    "Basic Input and Output:\n",
    "\n",
    "Use input() to get user input.\n",
    "Display output using print()."
   ]
  },
  {
   "cell_type": "code",
   "execution_count": 26,
   "metadata": {},
   "outputs": [
    {
     "name": "stdout",
     "output_type": "stream",
     "text": [
      "Hi, my name is .\n",
      "Hi, , your age is \n",
      "Hi, \n"
     ]
    }
   ],
   "source": [
    "my_name = input('What is your name?: ')\n",
    "my_age = input('What is your age?: ')\n",
    "\n",
    "print(f'Hi, my name is {my_name}.')\n",
    "print('Hi, {}, your age is {}'.format(my_name, my_age))\n",
    "print('Hi, %s' % my_name)\n",
    "\n"
   ]
  },
  {
   "cell_type": "code",
   "execution_count": 27,
   "metadata": {},
   "outputs": [
    {
     "name": "stdout",
     "output_type": "stream",
     "text": [
      "20,000\n"
     ]
    }
   ],
   "source": [
    "salary = 20000\n",
    "print(f'{salary:,}')"
   ]
  }
 ],
 "metadata": {
  "kernelspec": {
   "display_name": "Python 3",
   "language": "python",
   "name": "python3"
  },
  "language_info": {
   "codemirror_mode": {
    "name": "ipython",
    "version": 3
   },
   "file_extension": ".py",
   "mimetype": "text/x-python",
   "name": "python",
   "nbconvert_exporter": "python",
   "pygments_lexer": "ipython3",
   "version": "3.11.4"
  },
  "orig_nbformat": 4
 },
 "nbformat": 4,
 "nbformat_minor": 2
}
