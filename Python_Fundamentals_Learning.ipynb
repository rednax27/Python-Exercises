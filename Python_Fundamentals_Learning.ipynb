{
  "cells": [
    {
      "cell_type": "code",
      "execution_count": null,
      "id": "6cd0c781-b80c-4cdc-af6d-79d29fd4ec8e",
      "metadata": {
        "jupyter": {
          "outputs_hidden": false,
          "source_hidden": false
        },
        "noteable": {
          "cell_type": "code"
        }
      },
      "outputs": [],
      "source": []
    },
    {
      "cell_type": "code",
      "execution_count": null,
      "id": "2d283359-1c73-4181-a5cb-d88a84850219",
      "metadata": {
        "jupyter": {
          "outputs_hidden": false,
          "source_hidden": false
        },
        "noteable": {
          "cell_type": "code"
        }
      },
      "outputs": [],
      "source": []
    },
    {
      "cell_type": "markdown",
      "id": "57809534-dd2a-4b5a-968e-f8cca17371f4",
      "metadata": {
        "noteable": {
          "cell_type": "markdown"
        }
      },
      "source": [
        "# Python Fundamentals\n",
        "Welcome to the Python Fundamentals notebook! In this notebook, we'll cover the basics of programming with Python. Whether you're a complete beginner or just looking for a refresher, this notebook will guide you through the essential concepts with examples and exercises."
      ]
    },
    {
      "cell_type": "markdown",
      "id": "10e7d5be-1d40-4777-a6f9-60e0c1b06280",
      "metadata": {
        "noteable": {
          "cell_type": "markdown"
        }
      },
      "source": [
        "## Variables and Data Types\n",
        "In programming, a variable is used to store information that can be used and manipulated throughout a program. It gets its name because the information contained can vary or change. Let's dive into some examples."
      ]
    },
    {
      "cell_type": "code",
      "execution_count": null,
      "id": "d996431f-b01f-4338-ace9-d15f9b59e7b7",
      "metadata": {
        "ExecuteTime": {
          "end_time": "2023-08-16T11:08:08.495901+00:00",
          "start_time": "2023-08-16T11:08:08.338036+00:00"
        },
        "noteable": {
          "cell_type": "code",
          "output_collection_id": "8b3bfb81-d615-4bee-ae93-18e4e260f7b5"
        }
      },
      "outputs": [],
      "source": [
        "# Declaring a variable\n",
        "name = \"John\"\n",
        "age = 25\n",
        "height = 5.9  # in feet\n",
        "\n",
        "# Printing the variables\n",
        "print(\"Name:\", name)\n",
        "print(\"Age:\", age)\n",
        "print(\"Height:\", height)"
      ]
    },
    {
      "cell_type": "markdown",
      "id": "11890fb5-5915-42db-8796-fdb0504c7ad8",
      "metadata": {
        "noteable": {
          "cell_type": "markdown"
        }
      },
      "source": [
        "In the above example, we declared three variables: `name`, `age`, and `height`. Each variable holds a different type of data:\n",
        "- `name` is a string (text).\n",
        "- `age` is an integer (whole number).\n",
        "- `height` is a float (number with decimal points).\n",
        "Python automatically determines the data type of a variable based on the value assigned to it. This feature is known as dynamic typing."
      ]
    },
    {
      "cell_type": "markdown",
      "id": "68819fe6-0a65-43d7-b1af-0e9a8e1d43bb",
      "metadata": {
        "noteable": {
          "cell_type": "markdown"
        }
      },
      "source": [
        "## Exercise 1\n",
        "Declare three variables:\n",
        "1. `book_title` that stores the title of your favorite book as a string.\n",
        "2. `pages` that stores the number of pages in that book as an integer.\n",
        "3. `rating` that stores your rating for the book out of 5 as a float.\n",
        "Print out the values of these variables."
      ]
    },
    {
      "cell_type": "code",
      "execution_count": 1,
      "id": "a3b65c7e",
      "metadata": {},
      "outputs": [
        {
          "name": "stdout",
          "output_type": "stream",
          "text": [
            "book 22 4.5\n"
          ]
        }
      ],
      "source": [
        "book_title = input('Enter the title of your favorite book: ')\n",
        "pages = int(input('Enter the number of pages this book has: '))\n",
        "rating = float(input('Enter your rating for the book'))\n",
        "\n",
        "print(book_title, pages, rating)"
      ]
    },
    {
      "cell_type": "markdown",
      "id": "01d57073-ba0e-473d-8c5e-cff9b368f859",
      "metadata": {
        "noteable": {
          "cell_type": "markdown"
        }
      },
      "source": [
        "## Conditional Statements\n",
        "Conditional statements allow us to make decisions in our code. The most common conditional statements are `if`, `elif`, and `else`. They are used to perform different actions based on different conditions."
      ]
    },
    {
      "cell_type": "code",
      "execution_count": null,
      "id": "2a4f7904-7043-47bb-ae59-f85ee02e0aca",
      "metadata": {
        "ExecuteTime": {
          "end_time": "2023-08-16T11:09:15.769143+00:00",
          "start_time": "2023-08-16T11:09:15.611448+00:00"
        },
        "noteable": {
          "cell_type": "code",
          "output_collection_id": "769c7c14-ded4-4742-b5f8-cab0cd6c7daa"
        }
      },
      "outputs": [],
      "source": [
        "# Example of conditional statements\n",
        "weather = \"sunny\"\n",
        "\n",
        "if weather == \"sunny\":\n",
        "    print(\"It's a sunny day!\")\n",
        "elif weather == \"rainy\":\n",
        "    print(\"It's raining. Don't forget your umbrella!\")\n",
        "else:\n",
        "    print(\"It's a cloudy day.\")"
      ]
    },
    {
      "cell_type": "markdown",
      "id": "345284f8-5d64-4adb-a49c-85b9ef60bcac",
      "metadata": {
        "noteable": {
          "cell_type": "markdown"
        }
      },
      "source": [
        "In the example above, we used an `if` statement to check if the value of the `weather` variable is \"sunny\". Since it is, the code inside the `if` block is executed, and we see the output \"It's a sunny day!\".\n",
        "If the value of `weather` was \"rainy\", the code inside the `elif` block would be executed. If the value of `weather` was neither \"sunny\" nor \"rainy\", the code inside the `else` block would be executed."
      ]
    },
    {
      "cell_type": "markdown",
      "id": "3f30e2a3-6444-4ba4-ab25-ad9a23b1a99b",
      "metadata": {
        "noteable": {
          "cell_type": "markdown"
        }
      },
      "source": [
        "## Exercise 2\n",
        "Write a conditional statement that checks the value of a variable `score`. If the score is 90 or above, print \"A\". If the score is between 80 and 89, print \"B\". If the score is between 70 and 79, print \"C\". If the score is between 60 and 69, print \"D\". If the score is below 60, print \"F\"."
      ]
    },
    {
      "cell_type": "code",
      "execution_count": null,
      "id": "4da5091c-ff98-4331-af4c-345f33260029",
      "metadata": {
        "ExecuteTime": {
          "end_time": "2023-08-16T11:10:21.370328+00:00",
          "start_time": "2023-08-16T11:10:21.212052+00:00"
        },
        "noteable": {
          "cell_type": "code",
          "output_collection_id": "a1d1de90-2475-48fa-9fa7-66fe9c1aea30"
        }
      },
      "outputs": [],
      "source": [
        "# Example solution for Exercise 2\n",
        "score = 85  # You can change this value to test different scores\n",
        "\n",
        "if score >= 90:\n",
        "    print(\"A\")\n",
        "elif score >= 80:\n",
        "    print(\"B\")\n",
        "elif score >= 70:\n",
        "    print(\"C\")\n",
        "elif score >= 60:\n",
        "    print(\"D\")\n",
        "else:\n",
        "    print(\"F\")"
      ]
    },
    {
      "cell_type": "markdown",
      "id": "d37bbd5a-12a3-4a42-9462-9370af24d560",
      "metadata": {
        "noteable": {
          "cell_type": "markdown"
        }
      },
      "source": [
        "The score of 85 falls in the range of 80 to 89, so the output is \"B\". You can change the value of the `score` variable in the code cell to test different scores and see the corresponding grade."
      ]
    },
    {
      "cell_type": "code",
      "execution_count": null,
      "id": "34e17d0a",
      "metadata": {},
      "outputs": [],
      "source": [
        "score = int(input('Please enter your score'))\n",
        "\n",
        "if score >= 90:\n",
        "  print('A')\n",
        "elif score >= 80:\n",
        "  print('B')\n",
        "elif score >= 70:\n",
        "    print(\"C\")\n",
        "elif score >= 60:\n",
        "    print(\"D\")\n",
        "else:\n",
        "    print(\"F\")\n"
      ]
    },
    {
      "cell_type": "markdown",
      "id": "71bf2cf5-7dde-4c68-86ca-738d5a261379",
      "metadata": {
        "noteable": {
          "cell_type": "markdown"
        }
      },
      "source": [
        "## Loops\n",
        "Loops are used in programming to repeat a specific block of code. The two most common types of loops in Python are the `for` loop and the `while` loop."
      ]
    },
    {
      "cell_type": "code",
      "execution_count": null,
      "id": "297a3be7-caa5-48be-b56f-d791e8b1099b",
      "metadata": {
        "ExecuteTime": {
          "end_time": "2023-08-16T11:11:04.135574+00:00",
          "start_time": "2023-08-16T11:11:03.978308+00:00"
        },
        "noteable": {
          "cell_type": "code",
          "output_collection_id": "d60a025a-307f-4033-a6b7-84ee348b3212"
        }
      },
      "outputs": [],
      "source": [
        "# Example of a for loop\n",
        "for i in range(5):\n",
        "    print(i)"
      ]
    },
    {
      "cell_type": "markdown",
      "id": "0d91d6f0-4db6-48ca-9e83-c10128fcb408",
      "metadata": {
        "noteable": {
          "cell_type": "markdown"
        }
      },
      "source": [
        "In the `for` loop example above, we used the `range()` function to generate a sequence of numbers from 0 to 4. The loop iterates over each number in the sequence and prints it.\n",
        "Now, let's look at an example of a `while` loop."
      ]
    },
    {
      "cell_type": "code",
      "execution_count": null,
      "id": "2459583a-d6dd-465d-92d6-c5ff351d9253",
      "metadata": {
        "ExecuteTime": {
          "end_time": "2023-08-16T11:11:40.373748+00:00",
          "start_time": "2023-08-16T11:11:40.216735+00:00"
        },
        "noteable": {
          "cell_type": "code",
          "output_collection_id": "0a23797f-e9c1-4721-8b4d-ceaff658bde2"
        }
      },
      "outputs": [],
      "source": [
        "# Example of a while loop\n",
        "count = 0\n",
        "while count < 5:\n",
        "    print(count)\n",
        "    count += 1"
      ]
    },
    {
      "cell_type": "markdown",
      "id": "abc35ec3-6934-4d7e-b24a-110191a0e042",
      "metadata": {
        "noteable": {
          "cell_type": "markdown"
        }
      },
      "source": [
        "In the `while` loop example above, the loop continues to execute as long as the condition `count < 5` is true. Inside the loop, we print the value of `count` and then increment it by 1 using the `+=` operator. Once `count` reaches 5, the condition becomes false, and the loop stops executing."
      ]
    },
    {
      "cell_type": "markdown",
      "id": "d72339e0-de2c-44fb-b38d-0e9dae7affc9",
      "metadata": {
        "noteable": {
          "cell_type": "markdown"
        }
      },
      "source": [
        "## Exercise 3\n",
        "Write a `for` loop that prints the square of numbers from 1 to 10."
      ]
    },
    {
      "cell_type": "code",
      "execution_count": null,
      "id": "4cffeae3-b3e1-4879-b1ce-63c06e44b4cf",
      "metadata": {
        "ExecuteTime": {
          "end_time": "2023-08-16T11:12:35.562934+00:00",
          "start_time": "2023-08-16T11:12:35.406325+00:00"
        },
        "noteable": {
          "cell_type": "code",
          "output_collection_id": "7be12137-e885-4913-9cb1-71793ca15b1d"
        }
      },
      "outputs": [],
      "source": [
        "# Example solution for Exercise 3\n",
        "for num in range(1, 11):\n",
        "    print(num ** 2)"
      ]
    },
    {
      "cell_type": "markdown",
      "id": "f31427b5-aa55-43cd-b6e1-f30206affa97",
      "metadata": {
        "noteable": {
          "cell_type": "markdown"
        }
      },
      "source": [
        "The loop above iterates over numbers from 1 to 10 and prints their squares. The `**` operator is used to raise a number to a power. In this case, we're squaring each number."
      ]
    },
    {
      "cell_type": "code",
      "execution_count": null,
      "id": "e5181098",
      "metadata": {},
      "outputs": [],
      "source": [
        "for n in range(1, 11):\n",
        "  print(n ** 2)"
      ]
    },
    {
      "cell_type": "code",
      "execution_count": 7,
      "id": "d0dfd08a",
      "metadata": {},
      "outputs": [],
      "source": [
        "# write the function is_anagram\n",
        "def is_anagram(test, original):\n",
        "    counter = 0\n",
        "    hit_counter = 0\n",
        "    if len(test) == len(original):\n",
        "        for letter in test:\n",
        "            if letter.lower() == original[counter].lower():\n",
        "                hit_counter += 1\n",
        "                counter += 1\n",
        "                continue\n",
        "            if hit_counter == len(original):\n",
        "                return True\n",
        "    else:\n",
        "        return False\n",
        "                \n",
        "    pass\n",
        "\n",
        "len(\"dog\", \"god\")\n"
      ]
    },
    {
      "cell_type": "code",
      "execution_count": null,
      "id": "fb2e07a2",
      "metadata": {},
      "outputs": [],
      "source": [
        "list = [1,2,3,4,5,6,7,8,9,10]\n",
        "len(list)\n",
        "for index , number in enumerate(list):\n",
        "  if list[index] % 2 == 0:\n",
        "    print(number)\n",
        "\n",
        "  \n",
        "  else:\n",
        "    continue"
      ]
    },
    {
      "cell_type": "code",
      "execution_count": 15,
      "id": "1c1b34bd",
      "metadata": {},
      "outputs": [
        {
          "name": "stdout",
          "output_type": "stream",
          "text": [
            "[47, 'fuzz', 83, 56, 92, 'fuzz', 'fuzz', 64, 73, 'fuzz', 'buzz']\n"
          ]
        }
      ],
      "source": [
        "#if number divisible by 3, replace the value with fuzz.\n",
        "#if number divisible by 3 and 5, replace the value with buzz.\n",
        "\n",
        "def fuzzbuzz(list):\n",
        "  for index, number in enumerate(list):\n",
        "    if number % 3 == 0 and number % 5 == 0:\n",
        "      list[index] = \"buzz\"\n",
        "    elif number % 3 == 0:\n",
        "      list[index] = \"fuzz\"\n",
        "    \n",
        "  print(list)\n",
        "  \n",
        "fuzzbuzz([47, 12, 83, 56, 92, 39, 21, 64, 73, 18, 15])"
      ]
    },
    {
      "cell_type": "code",
      "execution_count": 21,
      "id": "5820fa08",
      "metadata": {},
      "outputs": [
        {
          "data": {
            "text/plain": [
              "'found the needle at position 3'"
            ]
          },
          "execution_count": 21,
          "metadata": {},
          "output_type": "execute_result"
        }
      ],
      "source": [
        "def find_needle(haystack):\n",
        "    # your code here\n",
        "    for index, word in enumerate(haystack):\n",
        "        if haystack[index] == 'needle':\n",
        "            return f'found the needle at position {index}'\n",
        "            break\n",
        "        else:\n",
        "            continue\n",
        "\n",
        "find_needle(['3', '123124234', None, 'needle', 'world', 'hay', 2, '3', True, False])"
      ]
    },
    {
      "cell_type": "code",
      "execution_count": 2,
      "id": "8627976c",
      "metadata": {},
      "outputs": [
        {
          "data": {
            "text/plain": [
              "'found the needle at position 3'"
            ]
          },
          "execution_count": 2,
          "metadata": {},
          "output_type": "execute_result"
        }
      ],
      "source": [
        "def find_needle(a):\n",
        "  for i in range(len(a)):\n",
        "    if a[i] == 'needle':\n",
        "      return \"found the needle at position \" + str(i)\n",
        "  \n"
      ]
    }
  ],
  "metadata": {
    "kernel_info": {
      "name": "python3"
    },
    "kernelspec": {
      "display_name": "Python 3.9",
      "language": "python",
      "name": "python3"
    },
    "language_info": {
      "codemirror_mode": {
        "name": "ipython",
        "version": 3
      },
      "file_extension": ".py",
      "mimetype": "text/x-python",
      "name": "python",
      "nbconvert_exporter": "python",
      "pygments_lexer": "ipython3",
      "version": "3.11.4"
    },
    "noteable": {
      "last_transaction_id": "13cbb9cc-fad9-41f6-bba6-d82f70da7ed1"
    },
    "noteable-chatgpt": {
      "create_notebook": {
        "openai_conversation_id": "68d3f0bd-44ec-5212-aa0e-bea51c1c466b",
        "openai_ephemeral_user_id": "00085233-e460-577c-974e-ccd1b7b47673",
        "openai_subdivision1_iso_code": "PH-00"
      }
    },
    "selected_hardware_size": "small"
  },
  "nbformat": 4,
  "nbformat_minor": 5
}
